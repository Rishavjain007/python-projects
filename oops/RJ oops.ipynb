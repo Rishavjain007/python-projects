{
  "nbformat": 4,
  "nbformat_minor": 0,
  "metadata": {
    "colab": {
      "provenance": []
    },
    "kernelspec": {
      "name": "python3",
      "display_name": "Python 3"
    },
    "language_info": {
      "name": "python"
    }
  },
  "cells": [
    {
      "cell_type": "code",
      "source": [
        "class person:\n",
        "  def __init__(self,name,age):\n",
        "    self.name=name\n",
        "    self.age=age\n",
        "\n",
        "  def intoduction(self):\n",
        "      print(f\"name is : {self.name}, and age is : {self.age}\")\n",
        "\n",
        "person1=person(\"Rishav\",\"16\")\n",
        "person1.intoduction()"
      ],
      "metadata": {
        "colab": {
          "base_uri": "https://localhost:8080/"
        },
        "id": "ReibeVzLgxO-",
        "outputId": "145c97d5-c1c6-437c-84c4-a187649042c7"
      },
      "execution_count": null,
      "outputs": [
        {
          "output_type": "stream",
          "name": "stdout",
          "text": [
            "name is : Rishav, and age is : 16\n"
          ]
        }
      ]
    },
    {
      "cell_type": "code",
      "source": [
        "class Car:\n",
        "  def __init__(self,brand,modal):\n",
        "    self.brand=brand\n",
        "    self.modal=modal\n",
        "\n",
        "  def display_info(self):\n",
        "      print(f\"brand is : {self.brand} , and modal is: {self.modal}\")\n",
        "\n",
        "car1=Car(\"volvoo\",\"s19\")\n",
        "car1.display_info()"
      ],
      "metadata": {
        "colab": {
          "base_uri": "https://localhost:8080/"
        },
        "id": "fYELblyPiI2R",
        "outputId": "c1d5218e-67bc-436a-f519-432c70c6b0ac"
      },
      "execution_count": null,
      "outputs": [
        {
          "output_type": "stream",
          "name": "stdout",
          "text": [
            "brand is : volvoo , and modal is: s19\n"
          ]
        }
      ]
    },
    {
      "cell_type": "code",
      "source": [
        "class bankaccount:\n",
        "    def __init__(self,account_number,balance):\n",
        "        self.account_number=account_number\n",
        "        self.balance=balance\n",
        "\n",
        "    def display_balance(self):\n",
        "        print(f\"account number is : {self.account_number} , And balance is : {self.balance}\")\n",
        "bankaccount1=bankaccount(\"310785567123\",\"20000$\")\n",
        "bankaccount1.display_balance()"
      ],
      "metadata": {
        "colab": {
          "base_uri": "https://localhost:8080/"
        },
        "id": "yydV-dtJjTge",
        "outputId": "f7d54049-b331-49b5-df65-253a661a6213"
      },
      "execution_count": null,
      "outputs": [
        {
          "output_type": "stream",
          "name": "stdout",
          "text": [
            "account number is : 310785567123 , And balance is : 20000$\n"
          ]
        }
      ]
    },
    {
      "cell_type": "code",
      "source": [
        "class mobilephone:\n",
        "    def __init__(self,brand,model):\n",
        "        self.brand=brand\n",
        "        self.model=model\n",
        "\n",
        "    def make_call(self):\n",
        "        print(f\"brand is : {self.brand} , and model is : {self.model}\")\n",
        "\n",
        "mobilephone1=mobilephone(\"Apple\",\"16 pro max\")\n",
        "mobilephone1.make_call()"
      ],
      "metadata": {
        "colab": {
          "base_uri": "https://localhost:8080/"
        },
        "id": "3-Mdcx_Ej2vO",
        "outputId": "f8a636c1-a34d-4809-9d35-b8d717d9f5ec"
      },
      "execution_count": null,
      "outputs": [
        {
          "output_type": "stream",
          "name": "stdout",
          "text": [
            "brand is : Apple , and model is : 16 pro max\n"
          ]
        }
      ]
    },
    {
      "cell_type": "code",
      "source": [
        "class book:\n",
        "     def __init__(self,title,author):\n",
        "         self.title=title\n",
        "         self.author=author\n",
        "     def display_info(self):\n",
        "         print(f\"title is : {self.title} , and author is : {self.author}\")\n",
        "\n",
        "book1=book(\"The Cricket on the Hearth\",\"Charles Dickens\")\n",
        "book1.display_info()"
      ],
      "metadata": {
        "colab": {
          "base_uri": "https://localhost:8080/"
        },
        "id": "TLtOfxoJki3-",
        "outputId": "5e1f743d-0ceb-4211-d0c1-e7897cec7595"
      },
      "execution_count": null,
      "outputs": [
        {
          "output_type": "stream",
          "name": "stdout",
          "text": [
            "title is : The Cricket on the Hearth , and author is : Charles Dickens\n"
          ]
        }
      ]
    },
    {
      "cell_type": "code",
      "source": [
        "class vechicles:\n",
        "   def __init__(self,name,model,year):\n",
        "    self.name=name\n",
        "    self.model=model\n",
        "    self.year=year\n",
        "\n",
        "\n",
        "\n",
        "class car(vechicles):\n",
        "      def __init__(self,name,model,year):\n",
        "         self.name=name\n",
        "         self.model=model\n",
        "         self.year=year\n",
        "      def stop_engine(self):\n",
        "          print(f\"name is : {self.name} , model is : {self.model} , and year is : {self.year}\")\n",
        "\n",
        "      def start_engine(self):\n",
        "          print(f\"name is : {self.name} , model is : {self.model} , and year is : {self.year}\")\n",
        "\n",
        "\n",
        "class motercycle(vechicles):\n",
        "\n",
        "      def __init__(self,name,model,year):\n",
        "         self.name=name\n",
        "         self.model=model\n",
        "         self.year=year\n",
        "      def stop_engine(self):\n",
        "          print(f\"name is : {self.name} , model is : {self.model} , and year is : {self.year}\")\n",
        "\n",
        "      def start_engine(self):\n",
        "          print(f\"name is : {self.name} , model is : {self.model} , and year is : {self.year}\")\n",
        "\n",
        "\n",
        "car1=car(\"baleno\" , \"delta\" , \"2024\")\n",
        "car1.stop_engine()\n",
        "car1.start_engine()\n",
        "\n",
        "\n",
        "motercycle1=motercycle(\"hero\" , \"hf deluxe\" , \"2024\")\n",
        "motercycle1.stop_engine()\n",
        "motercycle1.start_engine()"
      ],
      "metadata": {
        "colab": {
          "base_uri": "https://localhost:8080/"
        },
        "id": "v_3hyZsUmo6y",
        "outputId": "7efdfa35-1810-4bd8-c47d-5b39ffcc15b0"
      },
      "execution_count": null,
      "outputs": [
        {
          "output_type": "stream",
          "name": "stdout",
          "text": [
            "name is : baleno , model is : delta , and year is : 2024\n",
            "name is : baleno , model is : delta , and year is : 2024\n",
            "name is : hero , model is : hf deluxe , and year is : 2024\n",
            "name is : hero , model is : hf deluxe , and year is : 2024\n"
          ]
        }
      ]
    },
    {
      "cell_type": "code",
      "source": [
        "class animals:\n",
        "    def __init__(self,eat,sleep):\n",
        "      self.eat=eat\n",
        "      self.sleep=sleep\n",
        "    def sound(self):\n",
        "        pass\n",
        "\n",
        "class dog(animals):\n",
        "  def __init__(self,eat,sleep):\n",
        "      self.eat=eat\n",
        "      self.sleep=sleep\n",
        "  def brak(self):\n",
        "    print(f\" eat is : {self.eat}, and sleep is :  {self.sleep}\")\n",
        "\n",
        "class cat(animals):\n",
        "  def __init__(self,eat,sleep):\n",
        "    self.eat=eat\n",
        "    self.sleep=sleep\n",
        "  def meow(self):\n",
        "      print(f\" eat is : {self.eat}, and sleep is :{self.sleep}\")\n",
        "\n",
        "\n",
        "dog1=dog(\"biscuit\" , \"at 12 am to 3 pm\")\n",
        "dog1.brak()\n",
        "\n",
        "cat1=cat(\"rat\" , \"8 hours\")\n",
        "cat1.meow()"
      ],
      "metadata": {
        "colab": {
          "base_uri": "https://localhost:8080/"
        },
        "id": "Bp5m9CPWSLIY",
        "outputId": "90644fee-ecb7-46dd-e007-784c4d8a4d7b"
      },
      "execution_count": null,
      "outputs": [
        {
          "output_type": "stream",
          "name": "stdout",
          "text": [
            " eat is : biscuit, and sleep is :  at 12 am to 3 pm\n",
            " eat is : rat, and sleep is :8 hours\n"
          ]
        }
      ]
    },
    {
      "cell_type": "code",
      "source": [
        "class libraryitem:\n",
        "      def __init__(self,title,author, publication_year):\n",
        "          self.title=title\n",
        "          self.author=author\n",
        "          self.publication_year=publication_year\n",
        "\n",
        "class book:\n",
        "     def __init__(self,title,author, publication_year):\n",
        "          self.title=title\n",
        "          self.author=author\n",
        "          self.publication_year=publication_year\n",
        "     def checout(self):\n",
        "         print(f\"title is : {self.title}, author is : {self.author}, and publication_year : {self.publication_year} \")\n",
        "\n",
        "class magazine:\n",
        "     def __init__(self,title,author, publication_year):\n",
        "          self.title=title\n",
        "          self.author=author\n",
        "          self.publication_year=publication_year\n",
        "     def return_item(self):\n",
        "         print(f\"title is : {self.title}, author is : {self.author}, and publication_year : {self.publication_year} \")\n",
        "\n",
        "book1=book(\"dance\" , \"Haruki Murakami\" , \"1994\")\n",
        "book1.checout()\n",
        "\n",
        "magazine1=magazine(\"The Daffodil Sky\" , \"H. E. Bates\" , \"1990\")\n",
        "magazine1.return_item()"
      ],
      "metadata": {
        "colab": {
          "base_uri": "https://localhost:8080/"
        },
        "id": "gV6UEUuZSdbz",
        "outputId": "2d98ea6b-97a8-4b98-b58b-83af64a0e7c1"
      },
      "execution_count": null,
      "outputs": [
        {
          "output_type": "stream",
          "name": "stdout",
          "text": [
            "title is : dance, author is : Haruki Murakami, and publication_year : 1994 \n",
            "title is : The Daffodil Sky, author is : H. E. Bates, and publication_year : 1990 \n"
          ]
        }
      ]
    },
    {
      "cell_type": "code",
      "source": [],
      "metadata": {
        "id": "C4SSJomaTUbs"
      },
      "execution_count": null,
      "outputs": []
    }
  ]
}