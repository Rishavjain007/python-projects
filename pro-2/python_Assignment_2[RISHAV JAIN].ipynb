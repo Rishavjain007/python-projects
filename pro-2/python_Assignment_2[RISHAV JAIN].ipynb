{
  "cells": [
    {
      "cell_type": "markdown",
      "metadata": {
        "id": "vqi1LlrrRGHn"
      },
      "source": [
        "Q. 1  What are the benefits of using Python language as a tool in the present scenario?"
      ]
    },
    {
      "cell_type": "code",
      "execution_count": null,
      "metadata": {},
      "outputs": [],
      "source": [
        "1> it's easy to use and easy to learn,easy to commnicate \n",
        "2. it is very demanding language and it use for multiple platforms(like: linus , mac, windows)and run cods eveywhere"
      ]
    },
    {
      "cell_type": "markdown",
      "metadata": {
        "id": "d8TpgROrRO5C"
      },
      "source": [
        "Q.2 What does the ‘#’ symbol do in Python?"
      ]
    },
    {
      "cell_type": "code",
      "execution_count": null,
      "metadata": {},
      "outputs": [],
      "source": [
        "\"#\" symbol use for comments any code line . it dosen't' work in code  "
      ]
    },
    {
      "cell_type": "markdown",
      "metadata": {
        "id": "DVayxCH1RVTD"
      },
      "source": [
        "Q.3 What is the difference between a Mutable datatype and an Immutable data type?"
      ]
    },
    {
      "cell_type": "code",
      "execution_count": null,
      "metadata": {},
      "outputs": [],
      "source": [
        "mutable: we can changes in data types\n",
        "immutable: we can't' changes in data types"
      ]
    },
    {
      "cell_type": "markdown",
      "metadata": {
        "id": "Ol5cS1eVRach"
      },
      "source": [
        "Q.4 What is List Comprehension? Give an Example."
      ]
    },
    {
      "cell_type": "code",
      "execution_count": null,
      "metadata": {},
      "outputs": [],
      "source": [
        " List comprehension offers a shorter syntax when you want to create a new list based on the values of an existing listdatetime A combination of a date and a time. Attributes: ()\n",
        "\n",
        "exampele:\n",
        "fruits = [\"apple\", \"banana\", \"cherry\", \"kiwi\", \"mango\"]\n",
        "\n",
        "newlist = [x for x in fruits if \"a\" in x]\n",
        "\n",
        "print(newlist)"
      ]
    },
    {
      "cell_type": "markdown",
      "metadata": {
        "id": "njcRwMqARgkq"
      },
      "source": [
        "Q.5 What is a lambda function? Give Example"
      ]
    },
    {
      "cell_type": "code",
      "execution_count": null,
      "metadata": {},
      "outputs": [],
      "source": [
        "lamda function is one line function "
      ]
    },
    {
      "cell_type": "markdown",
      "metadata": {
        "id": "NPW9tIXgRsRy"
      },
      "source": [
        "Q. 6 What is the difference between / and // in Python?"
      ]
    },
    {
      "cell_type": "code",
      "execution_count": null,
      "metadata": {},
      "outputs": [],
      "source": [
        "/ (divide) give us value  in float \n",
        "//(floor division) give us value nearest integer number "
      ]
    },
    {
      "cell_type": "markdown",
      "metadata": {
        "id": "vNqpse9gR8fp"
      },
      "source": [
        "Q. 7 What are *args and **kwargs?"
      ]
    },
    {
      "cell_type": "code",
      "execution_count": null,
      "metadata": {},
      "outputs": [],
      "source": []
    },
    {
      "cell_type": "markdown",
      "metadata": {
        "id": "AqD8m4y7SAzM"
      },
      "source": [
        "Q. 8 What is Scope in Python?"
      ]
    },
    {
      "cell_type": "code",
      "execution_count": null,
      "metadata": {},
      "outputs": [],
      "source": [
        "scope: the vairiable is visible and accessable to interpreter\n",
        "there are two types of scopes :\n",
        "    1. global variable\n",
        "    2. local variable"
      ]
    },
    {
      "cell_type": "markdown",
      "metadata": {
        "id": "Xn4MAZ4qSHAu"
      },
      "source": [
        "Q. 9 What is a break, continue, and pass in Python?"
      ]
    },
    {
      "cell_type": "code",
      "execution_count": null,
      "metadata": {},
      "outputs": [],
      "source": [
        "break: uses to break the code in loops when condition not met\n",
        "continue: use to contiue code in loops until the condition not find\n",
        "pass:  is null operator it does nothing\n"
      ]
    },
    {
      "cell_type": "markdown",
      "metadata": {
        "id": "HgHnDwWNSPEU"
      },
      "source": [
        "Q. 10 What are Built-in data types in Python?"
      ]
    },
    {
      "cell_type": "code",
      "execution_count": null,
      "metadata": {},
      "outputs": [],
      "source": [
        " sequence data types:list, tuple ,string,\n",
        " boolean data types : true(1),false(0)\n",
        " numerical: float,interger,complex\n",
        "unorderd data types: set, dict"
      ]
    },
    {
      "cell_type": "markdown",
      "metadata": {
        "id": "HndyO-hWSVlu"
      },
      "source": [
        "Q. 11 What is Dictionary Comprehension? Give an Example"
      ]
    },
    {
      "cell_type": "code",
      "execution_count": null,
      "metadata": {},
      "outputs": [],
      "source": []
    },
    {
      "cell_type": "markdown",
      "metadata": {
        "id": "nhKlL12cSm5H"
      },
      "source": [
        "Q. 12 Is Tuple Comprehension? If yes, how, and if not why?\n",
        "\n",
        "(i for i in (1, 2, 3))"
      ]
    },
    {
      "cell_type": "code",
      "execution_count": null,
      "metadata": {},
      "outputs": [],
      "source": []
    },
    {
      "cell_type": "markdown",
      "metadata": {
        "id": "j6lzYIOYSua1"
      },
      "source": [
        "Q. 13 How to delete a file using Python?"
      ]
    },
    {
      "cell_type": "code",
      "execution_count": null,
      "metadata": {},
      "outputs": [],
      "source": [
        "import os module\n",
        "use os.remove(file path) "
      ]
    },
    {
      "cell_type": "markdown",
      "metadata": {
        "id": "_VoEEi5rSz-g"
      },
      "source": [
        "Q. 14 what is (if-elif-else) statement. describe with example"
      ]
    },
    {
      "cell_type": "code",
      "execution_count": null,
      "metadata": {},
      "outputs": [],
      "source": [
        "if :when we have condition and it is True\n",
        "elif: whwn we have more than two conditions and if condition not true then we excute elif condition\n",
        "else: when no condition is true the else conditon executes\n",
        "\n",
        "\n",
        "\n",
        "\n",
        "number = 15\n",
        "\n",
        "if number > 0:\n",
        "    print(\"The number is positive.\")\n",
        "elif number < 0:\n",
        "    print(\"The number is negative.\")\n",
        "else:\n",
        "    print(\"The number is zero.\")\n"
      ]
    },
    {
      "cell_type": "markdown",
      "metadata": {
        "id": "OrHbTVe5TAQX"
      },
      "source": [
        "Q.15 What is (for-while loops). explain with example"
      ]
    },
    {
      "cell_type": "code",
      "execution_count": null,
      "metadata": {},
      "outputs": [],
      "source": [
        "for: when we give a condition and conditon met it executes multiple times\n",
        "while: when conditon not met the while loops runs until conditon found\n",
        "\n",
        "for i in range(1, 6):\n",
        "    print(i)\n",
        "--------------------------\n",
        "i = 1\n",
        "while i <= 5:\n",
        "    print(i)\n",
        "    i += 1"
      ]
    },
    {
      "cell_type": "markdown",
      "metadata": {
        "id": "YlEQHLRKTLpK"
      },
      "source": [
        "Q. 16 what is function. how its works ?"
      ]
    },
    {
      "cell_type": "code",
      "execution_count": null,
      "metadata": {},
      "outputs": [],
      "source": []
    },
    {
      "cell_type": "markdown",
      "metadata": {},
      "source": [
        "Q 17 What is HOF (higher order function) explain.\n"
      ]
    },
    {
      "cell_type": "code",
      "execution_count": null,
      "metadata": {},
      "outputs": [],
      "source": [
        " in hof we  take  function as a argument and it returns as a fucntion as a result"
      ]
    },
    {
      "cell_type": "markdown",
      "metadata": {
        "id": "PlihVzT-TeJp"
      },
      "source": [
        "Q. 18 define (MAP-Reduce-filter) describe with example"
      ]
    },
    {
      "cell_type": "code",
      "execution_count": null,
      "metadata": {},
      "outputs": [],
      "source": [
        "map:it gives ADDRESS of file \n",
        "reduce : it compare between 2 values and redue one \n",
        "filter: "
      ]
    },
    {
      "cell_type": "markdown",
      "metadata": {
        "id": "RrwS9FgAVc90"
      },
      "source": [
        "Q  19 Advanced Ticket Pricing\n",
        "\n",
        "Question: Write a function calculate_ticket_price(age, time_of_day) that calculates the price of a movie ticket based on age and time of day:\n",
        "\n",
        "For ages 0-12, the ticket is 5rs  if the movie is before 5 PM, otherwise 7rs.\n",
        "\n",
        "For ages 13-64, the ticket is 10rs  if the movie is before 5 PM, otherwise 12rs.\n",
        "\n",
        "For ages 65 and above, the ticket is 7rs  if the movie is before 5 PM, otherwise 9rs.\n",
        "\n",
        "time_of_day is a string in the format \"HH:MM\" (24-hour format).\n",
        "\n",
        "explain this code"
      ]
    },
    {
      "cell_type": "code",
      "execution_count": null,
      "metadata": {
        "id": "flD8FEXYWX47"
      },
      "outputs": [],
      "source": [
        "def calculate_ticket_price(age, time_of_day):\n",
        "    hour = int(time_of_day.split(':')[0])\n",
        "    if hour < 17:  # Before 5 PM\n",
        "        if age <= 12:\n",
        "            return 5\n",
        "        elif age <= 64:\n",
        "            return 10\n",
        "        else:\n",
        "            return 7\n",
        "    else:  # After 5 PM\n",
        "        if age <= 12:\n",
        "            return 7\n",
        "        elif age <= 64:\n",
        "            return 12\n",
        "        else:\n",
        "            return 9\n"
      ]
    },
    {
      "cell_type": "markdown",
      "metadata": {
        "id": "UDqF7UGiWCYx"
      },
      "source": []
    }
  ],
  "metadata": {
    "colab": {
      "provenance": []
    },
    "kernelspec": {
      "display_name": "Python 3",
      "name": "python3"
    },
    "language_info": {
      "name": "python"
    }
  },
  "nbformat": 4,
  "nbformat_minor": 0
}
